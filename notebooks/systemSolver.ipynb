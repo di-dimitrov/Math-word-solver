{
 "cells": [
  {
   "cell_type": "code",
   "execution_count": null,
   "metadata": {},
   "outputs": [],
   "source": [
    "from sympy import *\n",
    "from sympy.solvers.solveset import linsolve\n",
    "\n",
    "# Изразяваме неизвестните спрямо другите неизвестни от системата\n",
    "\n",
    "def resolve_system_equations(array_of_equations, array_of_variables):\n",
    "    results = []\n",
    "    for index, system in enumerate(array_of_equations):\n",
    "        array_of_variables[index] = resolve_equation(system, array_of_variables[index])\n",
    "        for key, value in array_of_variables[index].items():\n",
    "            new_result = {}\n",
    "            new_result[key] = value\n",
    "            results.append(new_result)\n",
    "            try:\n",
    "                array_of_equations[index+1] = array_of_equations[index+1].replace(str(key), str(value))\n",
    "            except IndexError:\n",
    "                return results[::-1]\n",
    "    return results[::-1]\n",
    "\n",
    "resolve_system_equations(['x - 2*y + 3*v - 7', '2*x + y + v- 4', '-3*x + 2*y -2*v + 10'], ['x', 'y', 'v'])\n",
    "\n",
    "from sympy import *\n",
    "from sympy.solvers.solveset import linsolve\n",
    "import re\n",
    "import string\n",
    "\n",
    "# Заместваме неизвестните във всяко уравнение, чрез неизвестните от другите уравнения\n",
    "\n",
    "def substitute_variables_in_system(system_results):\n",
    "    for index, system in enumerate(system_results):\n",
    "            for key, value in system_results[index].items():\n",
    "                while re.search('[a-' + string.ascii_lowercase[string.ascii_lowercase.index(key)-1] +']['+ string.ascii_lowercase[string.ascii_lowercase.index(key)+1] +'-z]', value):\n",
    "                    print('111')\n",
    "                    for index1, system1 in enumerate(system_results):\n",
    "                        if index1 != index:\n",
    "                            for key1, value1 in system_results[index1].items():\n",
    "                                value = value.replace(key1, value1)\n",
    "                                system_results[index][key] = value\n",
    "    return system_results\n",
    "\n",
    "substitute_variables_in_system([{'v': '9*x/4 - 27/4'}, {'y': '5*v/3 - 1'}, {'x': '-3*v + 2*y + 7'}])\n",
    "\n",
    "from sympy import *\n",
    "from sympy.solvers.solveset import linsolve\n",
    "\n",
    "# Пресмятаме всички уравнения\n",
    "\n",
    "def calculate_final_variables_in_system(variables_to_be_calculated):\n",
    "    final_results = []\n",
    "    for index, system in enumerate(variables_to_be_calculated):\n",
    "        for key, value in variables_to_be_calculated[index].items():\n",
    "            final_results.append(resolve_equation(value + ' + ' + key, key))\n",
    "    return final_results\n",
    "\n",
    "calculate_final_variables_in_system([{'z': '-5*x/2 + 47/6'},\n",
    " {'y': '2*(-5*x/2 + 47/6)/5 - 3/5'},\n",
    " {'x': '2*(2*(-5*x/2 + 47/6)/5 - 3/5) - 3*(-5*x/2 + 47/6) + 7'}])"
   ]
  },
  {
   "cell_type": "code",
   "execution_count": 1,
   "metadata": {},
   "outputs": [
    {
     "data": {
      "text/plain": [
       "{'y': 'sqrt(3)*I/2'}"
      ]
     },
     "execution_count": 1,
     "metadata": {},
     "output_type": "execute_result"
    }
   ],
   "source": [
    "from sympy import *\n",
    "from sympy.solvers.solveset import linsolve\n",
    "from sympy import Symbol\n",
    "\n",
    "# Уравнение\n",
    "\n",
    "def resolve_equation(text, unknown_variable):\n",
    "    x = Symbol(unknown_variable)\n",
    "    equation = sympify(text)\n",
    "    dict_equation = solve(equation, x)\n",
    "    for res in dict_equation:\n",
    "        result = {}\n",
    "        result[unknown_variable] = str(res)\n",
    "    return result\n",
    "\n",
    "resolve_equation('2*(((1)/(2)))+((18)/(36))+2*y**2', 'y')"
   ]
  },
  {
   "cell_type": "code",
   "execution_count": 2,
   "metadata": {
    "scrolled": true
   },
   "outputs": [
    {
     "data": {
      "text/plain": [
       "[(-sqrt(3)*I/2,), (sqrt(3)*I/2,)]"
      ]
     },
     "execution_count": 2,
     "metadata": {},
     "output_type": "execute_result"
    }
   ],
   "source": [
    "from sympy import *\n",
    "from sympy.solvers.solveset import linsolve\n",
    "from sympy import Symbol\n",
    "\n",
    "# Система\n",
    "\n",
    "def resolve_system(systems_list, symbols_list):\n",
    "    expresion_symbols = []\n",
    "    expresion_systems = []\n",
    "    \n",
    "    for sym in symbols_list:\n",
    "        expresion_symbols.append(Symbol(sym))\n",
    "        \n",
    "    for sys in systems_list:\n",
    "        expresion_systems.append(sympify(sys))\n",
    "        \n",
    "    system_results = solve(expresion_systems, expresion_symbols)\n",
    "        \n",
    "    return system_results\n",
    "\n",
    "resolve_system(['2*(((1)/(2)))+((18)/(36))+2*y**2'], ['y'])"
   ]
  },
  {
   "cell_type": "code",
   "execution_count": 7,
   "metadata": {},
   "outputs": [
    {
     "data": {
      "text/plain": [
       "'2*(((1)/(2)))+((18)/(36))+2*y**2'"
      ]
     },
     "execution_count": 7,
     "metadata": {},
     "output_type": "execute_result"
    }
   ],
   "source": [
    "import re\n",
    "\n",
    "# Преправяме текста, за да се реши от Sympy\n",
    "\n",
    "def transform_text_to_sympy_text(equation_text):\n",
    "    equation_text = equation_text.replace(\" \", \"\")\n",
    "    \n",
    "    # Заместваме всички степени\n",
    "    equation_text = replace_power(equation_text)\n",
    "    \n",
    "    # Заместваме всички дроби\n",
    "    fraction_list_from_text = re.findall('frac{.*?}{.*?}', equation_text)\n",
    "    for index, fraction in enumerate(fraction_list_from_text):\n",
    "        equation_text = equation_text.replace(fraction_list_from_text[index], replace_fractions(fraction)) \n",
    "    \n",
    "    # Добавяме умножение\n",
    "    equation_text = add_multiply_for_sympy(equation_text)\n",
    "    \n",
    "    return equation_text\n",
    "    \n",
    "transform_text_to_sympy_text('2(frac {1} {2}) + frac {18} {36} + 2y^2')"
   ]
  },
  {
   "cell_type": "code",
   "execution_count": 6,
   "metadata": {},
   "outputs": [
    {
     "data": {
      "text/plain": [
       "'((masdx)/(3123))'"
      ]
     },
     "execution_count": 6,
     "metadata": {},
     "output_type": "execute_result"
    }
   ],
   "source": [
    "import re\n",
    "\n",
    "# Заместваме дроби, за да се решат от Sympy\n",
    "\n",
    "def replace_fractions(equation_text):\n",
    "    numerator = equation_text[equation_text.find(\"frac{\")+5:equation_text.find(\"}\")]\n",
    "    equation_text = re.sub(r'(frac{([a-z]|[0-9])+}+)', '(('+numerator+')', equation_text)\n",
    "    \n",
    "    denominator = equation_text[equation_text.find(numerator+\"{\")+(len(numerator) + 5):equation_text.find(\"}\")]\n",
    "    equation_text = re.sub(r'({([a-z]|[0-9])+}+)', '/' + '(' + denominator + '))', equation_text)\n",
    "    \n",
    "    return equation_text\n",
    "\n",
    "replace_fractions('frac{masdx}{3123}')"
   ]
  },
  {
   "cell_type": "code",
   "execution_count": 5,
   "metadata": {},
   "outputs": [
    {
     "data": {
      "text/plain": [
       "'(frac{masdx}{3123})**2'"
      ]
     },
     "execution_count": 5,
     "metadata": {},
     "output_type": "execute_result"
    }
   ],
   "source": [
    "import re\n",
    "\n",
    "# Заместваме степенуване, за да се решат от Sympy\n",
    "\n",
    "def replace_power(equation_text):\n",
    "    \n",
    "    equation_text = equation_text.replace('^', '**') \n",
    "    \n",
    "    return equation_text\n",
    "\n",
    "replace_power('(frac{masdx}{3123})^2')"
   ]
  },
  {
   "cell_type": "code",
   "execution_count": 4,
   "metadata": {},
   "outputs": [
    {
     "data": {
      "text/plain": [
       "'((1)/(2))+((18)/(36))+3*(5 + 3)*x'"
      ]
     },
     "execution_count": 4,
     "metadata": {},
     "output_type": "execute_result"
    }
   ],
   "source": [
    "import re\n",
    "\n",
    "# Добавяме умножение, за да се решат от Sympy\n",
    "\n",
    "def add_multiply_for_sympy(equation_text):\n",
    "    \n",
    "    chars_to_replace = []\n",
    "    \n",
    "    for index, char in enumerate(equation_text):\n",
    "        try:\n",
    "            if (char.isalpha() and equation_text[index+1].isalpha()) or (char.isalpha() and equation_text[index+1].isdigit()) or (char.isdigit() and equation_text[index+1].isalpha()) or (char.isalpha() and equation_text[index+1] == '(') or (char == ')' and equation_text[index+1].isalpha()) or (char == ')' and equation_text[index+1].isdigit() or (char.isdigit() and equation_text[index+1] == '(')):\n",
    "                new_char_to_replace = {}\n",
    "                new_char_to_replace[str(char+equation_text[index+1])] = str(char + '*' + equation_text[index+1])\n",
    "                chars_to_replace.append(new_char_to_replace)\n",
    "        except IndexError:\n",
    "            break\n",
    "    \n",
    "    for char_to_replace in chars_to_replace:\n",
    "        for key, value in char_to_replace.items():\n",
    "            equation_text = equation_text.replace(key, value)\n",
    "        \n",
    "    return equation_text\n",
    "\n",
    "add_multiply_for_sympy('((1)/(2))+((18)/(36))+3(5 + 3)x')"
   ]
  },
  {
   "cell_type": "code",
   "execution_count": null,
   "metadata": {},
   "outputs": [],
   "source": []
  }
 ],
 "metadata": {
  "kernelspec": {
   "display_name": "Python 3",
   "language": "python",
   "name": "python3"
  },
  "language_info": {
   "codemirror_mode": {
    "name": "ipython",
    "version": 3
   },
   "file_extension": ".py",
   "mimetype": "text/x-python",
   "name": "python",
   "nbconvert_exporter": "python",
   "pygments_lexer": "ipython3",
   "version": "3.5.5"
  }
 },
 "nbformat": 4,
 "nbformat_minor": 2
}
